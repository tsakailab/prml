{
  "nbformat": 4,
  "nbformat_minor": 0,
  "metadata": {
    "colab": {
      "provenance": [],
      "include_colab_link": true
    },
    "kernelspec": {
      "name": "python3",
      "display_name": "Python 3"
    }
  },
  "cells": [
    {
      "cell_type": "markdown",
      "metadata": {
        "id": "view-in-github",
        "colab_type": "text"
      },
      "source": [
        "<a href=\"https://colab.research.google.com/github/tsakailab/prml/blob/master/ipynb/ex_Regression.ipynb\" target=\"_parent\"><img src=\"https://colab.research.google.com/assets/colab-badge.svg\" alt=\"Open In Colab\"/></a>"
      ]
    },
    {
      "cell_type": "markdown",
      "source": [
        "# 回帰分析（regression analysis）\n",
        "\n",
        "----\n",
        "\n",
        "氏名：\n",
        "\n",
        "学生番号：\n",
        "\n",
        "----\n",
        "基本課題（必須）\n",
        "\n",
        "    1. Example 1 と Example 2について多項式回帰を実行し，それぞれ適切な次数（degree）について考察してください．\n",
        "       また，データに標準化は回帰にどのような効果があるか観察してください．\n",
        "\n",
        "（ここに回答を書いてください）\n",
        "\n",
        "\n",
        "\n",
        "    2. 「最小二乗解の様々な計算方法」の「★直接法」を実装してください．また，計算時間を %timeit で計り，比較してください．\n",
        "\n",
        "（ここに回答を書いてください）参考：[timeit](https://docs.python.org/3/library/timeit.html)\n",
        "\n",
        "\n",
        "\n",
        "    3. 「最小二乗解の様々な計算方法」の「☆反復法」の関数 lstsq_gd を完成させ，データや回帰モデル，標準化の有無，\n",
        "       学習率の設定などによる振る舞いの違いを報告してください．\n",
        "\n",
        "（ここに回答を書いてください）\n",
        "\n",
        "\n",
        "\n",
        "    4.その他，気づいたこと，調べたことを書いてください．\n",
        "\n",
        "（ここに回答を書いてください）\n",
        "\n",
        "\n",
        "\n",
        "----\n",
        "発展課題（任意）がこのノートブックの後半にあります．"
      ],
      "metadata": {
        "id": "crTv0jrcIJJH"
      }
    },
    {
      "cell_type": "markdown",
      "metadata": {
        "id": "UoRFQUlLokm4"
      },
      "source": [
        "### 単回帰または多項式回帰用のデータを生成します．\n",
        "- Example 1～4 からひとつ選んで実行してください．"
      ]
    },
    {
      "cell_type": "code",
      "metadata": {
        "id": "_nCKZV9u0gmz"
      },
      "source": [
        "# Example 1: manually defined\n",
        "import numpy as np\n",
        "train = [ np.array([[5., 3., 0., 4.]]).T, np.array([[4., 4., 1., 3.]]).T ]\n",
        "val = [ np.array([[1.0,  2., 2.5, 4.]]).T, np.array([[1.5, 2., 3.5, 4.]]).T ]"
      ],
      "execution_count": null,
      "outputs": []
    },
    {
      "cell_type": "code",
      "metadata": {
        "id": "ZvxP6Rlniu6J"
      },
      "source": [
        "# Example 2: artificial dataset\n",
        "# http://www.scipy-lectures.org/packages/scikit-learn/auto_examples/plot_bias_variance.html#bias-and-variance-of-polynomial-fit\n",
        "import numpy as np\n",
        "generating_func = lambda x, err=0.5: np.random.normal(10 - 1. / (x + 0.1), err)\n",
        "n_samples = 300\n",
        "np.random.seed(0)\n",
        "train = [10 ** np.linspace(-2, 0, n_samples)[:,np.newaxis], None]\n",
        "train[1] = generating_func(train[0])\n",
        "val = [np.linspace(0, 1.0, 100)[:,np.newaxis], None]\n",
        "val[1] = generating_func(val[0])"
      ],
      "execution_count": null,
      "outputs": []
    },
    {
      "cell_type": "code",
      "source": [
        "# Example 3: make_regression\n",
        "from sklearn.datasets import make_regression\n",
        "train = make_regression(\n",
        "    n_samples=20, n_features=1, random_state=0, noise=8.0, bias=10.0\n",
        ")\n",
        "val = make_regression(\n",
        "    n_samples=20, n_features=1, random_state=0, noise=3.0, bias=10.0\n",
        ")"
      ],
      "metadata": {
        "id": "0Mk2BqfUgF_m"
      },
      "execution_count": null,
      "outputs": []
    },
    {
      "cell_type": "code",
      "metadata": {
        "id": "HIJqBgJ2pPyZ"
      },
      "source": [
        "# Example 4: the diabetes dataset\n",
        "import numpy as np\n",
        "from sklearn import datasets\n",
        "diabetes = datasets.load_diabetes()\n",
        "diabetes.target /= diabetes.target.max()\n",
        "# Use only one feature\n",
        "train = [ diabetes.data[-20:, np.newaxis, 2], diabetes.target[-20:] ]\n",
        "val = [ diabetes.data[:-20, np.newaxis, 2], diabetes.target[:-20] ]"
      ],
      "execution_count": null,
      "outputs": []
    },
    {
      "cell_type": "code",
      "metadata": {
        "id": "R1SAIZS7BCqa",
        "cellView": "form"
      },
      "source": [
        "#@title 関数 plot_reg を定義します（理解不要）．\n",
        "import matplotlib.pyplot as plt\n",
        "from sklearn.preprocessing import PolynomialFeatures\n",
        "\n",
        "npopts = lambda: np.printoptions(threshold=16,edgeitems=4)\n",
        "\n",
        "def plot_reg(train, test=None, w=None, degree=1):\n",
        "    xmin, xmax, dx = train[0].min(), train[0].max(), (train[0].max()-train[0].min())*0.2\n",
        "    ymin, ymax, dy = train[1].min(), train[1].max(), (train[1].max()-train[1].min())*0.2\n",
        "\n",
        "    if test is not None:\n",
        "        xmin, xmax, dx = min(xmin, test[0].min()), max(xmax, test[0].max()), max(dx, (test[0].max()-test[0].min())*0.2)\n",
        "        ymin, ymax, dy = min(ymin, test[1].min()), max(ymax, test[1].max()), max(dy, (test[1].max()-test[1].min())*0.2)\n",
        "\n",
        "    plt.figure(figsize=(3, 3.5))\n",
        "    ax = plt.axes()\n",
        "    ax.scatter(train[0], train[1], marker='x', c='darkviolet', s=20, zorder=10)\n",
        "    if test is not None:\n",
        "        ax.scatter(test[0], test[1], marker='o', c='0.75', s=10)\n",
        "    if w is not None:\n",
        "        x_regr = np.linspace(xmin-dx, xmax+dx, 100)\n",
        "        X_regr = PolynomialFeatures(degree).fit_transform(x_regr[:, np.newaxis])\n",
        "        y_regr = X_regr.dot(w)\n",
        "        ax.plot(x_regr, y_regr, 'b-', zorder=20)\n",
        "\n",
        "    ax.set_xlim(xmin-dx, xmax+dx)\n",
        "    ax.set_ylim(ymin-dy, ymax+dy)\n",
        "    plt.xticks(fontsize=20)\n",
        "    plt.yticks(fontsize=20)\n",
        "    plt.tight_layout()"
      ],
      "execution_count": null,
      "outputs": []
    },
    {
      "cell_type": "code",
      "source": [
        "#@title 訓練データ `x`, `y` と検証データ `x_val`, `y_val` を設定し，プロットします．<p>訓練データ（$\\times$），検証データ（$\\bullet$）</p>\n",
        "x, y = train[0], train[1]\n",
        "x_val, y_val = val[0], val[1]\n",
        "plot_reg((x, y), (x_val, y_val))"
      ],
      "metadata": {
        "cellView": "form",
        "id": "24FLduf18K5d"
      },
      "execution_count": null,
      "outputs": []
    },
    {
      "cell_type": "code",
      "source": [
        "#@title このセルは必要に応じて実行してください．<br>[sklearn.preprocessing.StandardScaler](https://scikit-learn.org/stable/modules/generated/sklearn.preprocessing.StandardScaler.html)による標準化で x と y の平均をゼロにします．\n",
        "from sklearn.preprocessing import StandardScaler\n",
        "scaler = StandardScaler()\n",
        "\n",
        "xy = scaler.fit_transform(np.c_[train[0],train[1]])\n",
        "x, y = xy[:,0][:,np.newaxis], xy[:,1]\n",
        "\n",
        "xy = scaler.transform(np.c_[val[0],val[1]])\n",
        "x_val, y_val = xy[:,0][:,np.newaxis], xy[:,1]\n",
        "\n",
        "plot_reg((x, y), (x_val, y_val))"
      ],
      "metadata": {
        "cellView": "form",
        "id": "T12rWMGD5u3u"
      },
      "execution_count": null,
      "outputs": []
    },
    {
      "cell_type": "markdown",
      "source": [
        "### scikit-learnを使う方法\n",
        "- 線形回帰：[sklearn.linear_model.LinearRegression](https://scikit-learn.org/stable/modules/generated/sklearn.linear_model.LinearRegression.html)\n",
        "- 多項式回帰の計画行列の作成：[sklearn.preprocessing.PolynomialFeatures](https://scikit-learn.org/stable/modules/generated/sklearn.preprocessing.PolynomialFeatures.html)\n",
        "- 一連の処理からなるモデルの定義：[sklearn.pipeline.Pipeline](https://scikit-learn.org/stable/modules/generated/sklearn.pipeline.Pipeline.html)"
      ],
      "metadata": {
        "id": "13wT_Za5fnoZ"
      }
    },
    {
      "cell_type": "code",
      "source": [
        "# 単回帰\n",
        "from sklearn import linear_model\n",
        "\n",
        "model = linear_model.LinearRegression()\n",
        "model.fit(x, y)\n",
        "# intercept_ と coef_ がそれぞれ w[0] と w[1:] になるように連結する\n",
        "w = np.r_[model.intercept_, model.coef_]\n",
        "\n",
        "print(\"w = \", w)\n",
        "plot_reg((x,y), (x_val,y_val), w)\n",
        "\n",
        "# https://scikit-learn.org/stable/modules/generated/sklearn.linear_model.LinearRegression.html#sklearn.linear_model.LinearRegression.score\n",
        "print(\"train: R^2 =\", model.score(x, y), \", val: R^2 =\", model.score(x_val, y_val))"
      ],
      "metadata": {
        "id": "A0m4YqHBjJA5"
      },
      "execution_count": null,
      "outputs": []
    },
    {
      "cell_type": "code",
      "source": [
        "# 計画行列の作成と重回帰の Pipeline\n",
        "from sklearn import linear_model\n",
        "from sklearn.preprocessing import PolynomialFeatures\n",
        "from sklearn.pipeline import Pipeline\n",
        "\n",
        "degree = 3\n",
        "\n",
        "polynomial_features = PolynomialFeatures(degree=degree, include_bias=False)\n",
        "linear_regression = linear_model.LinearRegression()\n",
        "\n",
        "# polynomial_features（命名：'pfeat'）に続けて linear_regression（命名：'reg'）を実行するモデル\n",
        "model = Pipeline( [('pfeat', polynomial_features), ('reg', linear_regression)] )\n",
        "model.fit(x, y)\n",
        "\n",
        "# 'reg' の結果の intercept_ と coef_ がそれぞれ w[0] と w[1:] になるように連結する\n",
        "w = np.r_[model.named_steps['reg'].intercept_, model.named_steps['reg'].coef_]\n",
        "\n",
        "print(\"w = \", w)\n",
        "plot_reg((x,y), (x_val,y_val), w, degree=degree)\n",
        "\n",
        "print(\"train: MSE =\", ((y - model.predict(x))**2).mean(),\n",
        "      \", val: MSE =\", ((y_val - model.predict(x_val))**2).mean())"
      ],
      "metadata": {
        "id": "7RieHePQ2UMX"
      },
      "execution_count": null,
      "outputs": []
    },
    {
      "cell_type": "markdown",
      "source": [
        "### 最小二乗解の様々な計算方法\n",
        "まず，計画行列$\\tilde{\\boldsymbol X}$を作成します．"
      ],
      "metadata": {
        "id": "M8Uwg5MgfD71"
      }
    },
    {
      "cell_type": "code",
      "source": [
        "from sklearn.preprocessing import PolynomialFeatures\n",
        "degree = 3\n",
        "X = PolynomialFeatures(degree).fit_transform(x)\n",
        "\n",
        "if degree < 4:\n",
        "    with npopts():\n",
        "        print(\"X =\");    print(X)\n",
        "        print(\"X.T.dot(X) =\");    print(X.T.dot(X))"
      ],
      "metadata": {
        "id": "Y0HC2cdyfCz5"
      },
      "execution_count": null,
      "outputs": []
    },
    {
      "cell_type": "markdown",
      "metadata": {
        "id": "4UTrkDQEu_EU"
      },
      "source": [
        "#### ★直接法\n",
        "$\\tilde{\\boldsymbol w}^\\star=\\arg\\min_{\\tilde{\\boldsymbol w}}\\;\\|{\\boldsymbol y}-\\tilde{\\boldsymbol X}\\tilde{\\boldsymbol w}\\|^2$\n",
        "\n",
        "正規方程式：$\\tilde{\\boldsymbol X}^\\top\\!\\!\\tilde{\\boldsymbol X}\\,\\;\\tilde{\\boldsymbol w}=\\tilde{\\boldsymbol X}^\\top\\!\\!{\\boldsymbol y}$\n",
        "\n",
        "解の公式：$\\tilde{\\boldsymbol w}^\\star=(\\tilde{\\boldsymbol X}^\\top\\!\\!\\tilde{\\boldsymbol X})^{-1}\\tilde{\\boldsymbol X}^\\top\\!\\!{\\boldsymbol y}$"
      ]
    },
    {
      "cell_type": "code",
      "metadata": {
        "id": "plfSF04aeFWL"
      },
      "source": [
        "from numpy import linalg\n",
        "#from scipy import linalg\n",
        "\n",
        "#### (a-1) 解の公式どおり逆行列を使う方法（https://numpy.org/doc/stable/reference/generated/numpy.linalg.inv.html）\n",
        "w = ''' linalg.inv を使いましょう '''\n",
        "\n",
        "#### (a-2) 連立方程式の解法を使う方法（https://numpy.org/doc/stable/reference/generated/numpy.linalg.solve.html）\n",
        "w = ''' linalg.solve を使いましょう '''\n",
        "\n",
        "#### (a-3) 一般逆行列を使う方法（https://numpy.org/doc/stable/reference/generated/numpy.linalg.pinv.html）\n",
        "w = ''' linalg.pinv を使いましょう '''\n",
        "\n",
        "#### (a-4) 最小二乗法を使う方法（https://numpy.org/doc/stable/reference/generated/numpy.linalg.lstsq.html）\n",
        "w = ''' linalg.lstsq を使いましょう '''\n",
        "\n",
        "print(\"w =\", w)\n",
        "plot_reg((x,y), (x_val,y_val), w, degree=degree)"
      ],
      "execution_count": null,
      "outputs": []
    },
    {
      "cell_type": "markdown",
      "source": [
        "#### ☆反復法\n",
        "最急降下法：$\\tilde{\\boldsymbol w}\\gets \\tilde{\\boldsymbol w}-\\alpha \\nabla_{\\tilde{\\boldsymbol w}}L(\\tilde{\\boldsymbol w})$\n",
        "\n",
        "損失関数 $L(\\tilde{\\boldsymbol w})=\\frac{1}{2n}\\|{\\boldsymbol y}-\\tilde{\\boldsymbol X}\\tilde{\\boldsymbol w}\\|^2$\n",
        "\n",
        "勾配 $\\nabla_{\\tilde{\\boldsymbol w}}L(\\tilde{\\boldsymbol w})=-\\frac{1}{n}\\tilde{\\boldsymbol X}^\\top({\\boldsymbol y}-\\tilde{\\boldsymbol X}\\tilde{\\boldsymbol w})$\n",
        "\n",
        "\n",
        "\n"
      ],
      "metadata": {
        "id": "lAz9J2z0lQN2"
      }
    },
    {
      "cell_type": "code",
      "source": [
        "def lstsq_gd(X, y, lr = 1e-3, max_iter=1000):\n",
        "    n = len(y)\n",
        "    w = X.T.dot(y)\n",
        "    loss_history = []\n",
        "    iter = 0\n",
        "    while iter < max_iter:\n",
        "        delta = y - X.dot(w)\n",
        "        w = ''' 最急降下法で w を更新してください '''\n",
        "        loss_history.append(0.5*np.dot(delta, delta)/n)\n",
        "        iter += 1\n",
        "    return w, loss_history\n",
        "\n",
        "w, lh = lstsq_gd(X, y, lr=1e-2, max_iter=10000)\n",
        "print(\"w =\", w)\n",
        "plt.plot(np.arange(len(lh)),lh); plt.xscale('log'); plt.yscale('log')\n",
        "\n",
        "plot_reg((x,y), (x_val,y_val), w, degree=degree)"
      ],
      "metadata": {
        "id": "Vk1mBrmxlNJb"
      },
      "execution_count": null,
      "outputs": []
    },
    {
      "cell_type": "markdown",
      "source": [
        "--------\n",
        "## 発展課題（任意）\n",
        "画素を欠損させた顔画像から欠損前の画像を復元する回帰を試みましょう．モデルは3層ニューラルネットワークとします．\n",
        "\n",
        "画像：[cropped Yale face database B](https://paperswithcode.com/dataset/extended-yale-b-1)，32x32画素，2414枚，38人．\n",
        "\n",
        "    1. 欠損率を大きくすると，検証用画像の復元にどのような不具合が生じますか．\n",
        "\n",
        "（ここに回答を書いてください）\n",
        "\n",
        "\n",
        "    2. 活性化関数 'relu' とは何ですか．画像の復元において 'relu' や 'identity' を中間層に採用する利点はあるでしょうか．\n",
        "\n",
        "（ここに回答を書いてください．"
      ],
      "metadata": {
        "id": "qlA0IQM54O6F"
      }
    },
    {
      "cell_type": "code",
      "source": [
        "#@title 画像をダウンロードし，訓練用画像 `X_train` と検証用 `X_val` に分けます．\n",
        "import requests\n",
        "import io\n",
        "\n",
        "response = requests.get('https://github.com/tsakailab/prml/raw/master/datasets/YaleB_32x32.mat')\n",
        "response.raise_for_status()\n",
        "#data = np.load(io.BytesIO(response.content))\n",
        "from scipy.io import loadmat\n",
        "dataset = loadmat(io.BytesIO(response.content))\n",
        "\n",
        "# split data into those for training (0.5), validation (0.5*0.5) and testing (0.5*0.5)\n",
        "mybirthday = 19731115\n",
        "\n",
        "from sklearn.model_selection import train_test_split\n",
        "X_train, X_val, y_train, y_val = train_test_split(dataset['fea'], dataset['gnd'].ravel(), train_size=0.8, random_state=mybirthday)\n",
        "n_train, n_val = X_train.shape[0], X_val.shape[0]\n",
        "n_pixels = X_train.shape[1]\n",
        "print(\"#train =\", n_train, \", #val =\", n_val)\n",
        "\n",
        "# zero-based indexing, shape (n,)\n",
        "y_train, y_val = y_train-1, y_val-1\n",
        "\n",
        "# scaling to [0,1]\n",
        "X_train, X_val = X_train / 255., X_val / 255."
      ],
      "metadata": {
        "cellView": "form",
        "id": "soiG1ijrWVXR"
      },
      "execution_count": null,
      "outputs": []
    },
    {
      "cell_type": "markdown",
      "metadata": {
        "id": "fPbdEvDtw_74"
      },
      "source": [
        "### ランダムに画素を欠損させます．\n",
        "- 欠損率 `missing_pixel_rate` を設定してください．\n",
        "- 欠損させた画素は赤で表示されます．"
      ]
    },
    {
      "cell_type": "code",
      "source": [
        "# rate of missing pixels\n",
        "missing_pixel_rate = 0.3    #### try 0.1, 0.3, 0.5 ####"
      ],
      "metadata": {
        "id": "jf0ssS3M36G8"
      },
      "execution_count": null,
      "outputs": []
    },
    {
      "cell_type": "code",
      "source": [
        "#@title 訓練画像を表示します．\n",
        "import numpy as np\n",
        "\n",
        "n_pixels_miss = np.ceil(n_pixels * missing_pixel_rate).astype(int)\n",
        "p_miss = np.random.choice(n_pixels, n_pixels_miss, replace=False)\n",
        "\n",
        "# put np.nan as missing pixels\n",
        "X_in_train = X_train.copy()\n",
        "X_in_train[:,p_miss] = np.nan\n",
        "X_in_val = X_val.copy()\n",
        "X_in_val[:,p_miss] = np.nan\n",
        "p_obs = ~np.isnan(X_in_train[0,:])\n",
        "\n",
        "import matplotlib.pyplot as plt\n",
        "plt.cm.gray.set_bad(color='red')\n",
        "\n",
        "print(\"Input images for training,\", p_obs.sum(), \"pixels are available for each\")\n",
        "fig, axes = plt.subplots(4, 6)\n",
        "vmin, vmax = 0., 1.\n",
        "for f, ax in zip(X_in_train, axes.ravel()):\n",
        "    ax.matshow(f.reshape(32, 32).T, cmap=plt.cm.gray, vmin=vmin, vmax=vmax)\n",
        "    ax.set_xticks(())\n",
        "    ax.set_yticks(())\n",
        "plt.show()\n",
        "\n",
        "print(\"Output images each with\", n_pixels, \"pixels for training\")\n",
        "fig, axes = plt.subplots(4, 6)\n",
        "vmin, vmax = 0., 1.\n",
        "for f, ax in zip(X_train, axes.ravel()):\n",
        "    ax.matshow(f.reshape(32, 32).T, cmap=plt.cm.gray, vmin=vmin, vmax=vmax)\n",
        "    ax.set_xticks(())\n",
        "    ax.set_yticks(())\n",
        "plt.show()"
      ],
      "metadata": {
        "id": "DoDVtOb3Zd_A"
      },
      "execution_count": null,
      "outputs": []
    },
    {
      "cell_type": "markdown",
      "source": [
        "### 3層ニューラルネットワークに学習させます．\n",
        "- 入力層・中間層・出力層があります．\n",
        "- 欠損画像の欠損していない画素値（画素数1024未満）を入力します．欠損していない正解画像（画素数32x32=1024）を予測したものを出力させたいです．\n",
        "- `nnodes` は中間層のノード数です．\n",
        "- [sklearn.neural_network.MLPRegressor](https://scikit-learn.org/stable/modules/generated/sklearn.neural_network.MLPRegressor.html)を使用します．"
      ],
      "metadata": {
        "id": "n1uvdLL50vu1"
      }
    },
    {
      "cell_type": "code",
      "source": [
        "# number of hidden layer nodes\n",
        "nnodes = 300        #### try 10 to 300 (e.g., 10, 30, 60, 100, 300) (caution: computationally expensive) ####\n",
        "\n",
        "from sklearn.neural_network import MLPRegressor\n",
        "model = MLPRegressor(hidden_layer_sizes=(nnodes,), activation='logistic',   # 'identity', 'relu', 'logistic'\n",
        "                     verbose=True)\n",
        "\n",
        "from time import time\n",
        "t0 = time()\n",
        "print(\"Training ..\")\n",
        "model.fit(X_in_train[:,p_obs], X_train)\n",
        "print('done in %.2fs.' % (time() - t0))\n",
        "\n",
        "print(\"train: R^2 =\", model.score(X_in_train[:,p_obs], X_train), \", val: R^2 =\", model.score(X_in_val[:,p_obs], X_val))"
      ],
      "metadata": {
        "id": "xawQTxq3fZ17"
      },
      "execution_count": null,
      "outputs": []
    },
    {
      "cell_type": "code",
      "source": [
        "#@title 検証画像の復元例を表示します．\n",
        "plt.cm.gray.set_bad(color='red')\n",
        "print(\"Input images for validation\")\n",
        "fig, axes = plt.subplots(4, 6)\n",
        "vmin, vmax = 0., 1.\n",
        "for f, ax in zip(X_in_val, axes.ravel()):\n",
        "    ax.matshow(f.reshape(32, 32).T, cmap=plt.cm.gray, vmin=vmin, vmax=vmax)\n",
        "    ax.set_xticks(())\n",
        "    ax.set_yticks(())\n",
        "plt.show()\n",
        "\n",
        "print(\"Output images for validation\")\n",
        "X_val_pred = model.predict(X_in_val[:,p_obs])\n",
        "\n",
        "fig, axes = plt.subplots(4, 6)\n",
        "vmin, vmax = 0., 1.\n",
        "for f, ax in zip(X_val_pred, axes.ravel()):\n",
        "    ax.matshow(f.reshape(32, 32).T, cmap=plt.cm.gray, vmin=vmin, vmax=vmax)\n",
        "    ax.set_xticks(())\n",
        "    ax.set_yticks(())\n",
        "plt.show()\n",
        "\n",
        "print(\"Ground truth images for validation\")\n",
        "fig, axes = plt.subplots(4, 6)\n",
        "vmin, vmax = 0., 1.\n",
        "for f, ax in zip(X_val, axes.ravel()):\n",
        "    ax.matshow(f.reshape(32, 32).T, cmap=plt.cm.gray, vmin=vmin, vmax=vmax)\n",
        "    ax.set_xticks(())\n",
        "    ax.set_yticks(())\n",
        "plt.show()"
      ],
      "metadata": {
        "cellView": "form",
        "id": "5U4sWJ47omAW"
      },
      "execution_count": null,
      "outputs": []
    },
    {
      "cell_type": "code",
      "source": [
        "coefs = model.coefs_\n",
        "print(coefs[0].shape, coefs[1].shape)\n",
        "\n",
        "# Can you visualize coefs[1] as 300 images?\n",
        "\n"
      ],
      "metadata": {
        "id": "DsOm-6Eh43RI"
      },
      "execution_count": null,
      "outputs": []
    },
    {
      "cell_type": "markdown",
      "source": [
        "----\n",
        "お疲れさまでした．"
      ],
      "metadata": {
        "id": "wpoiS2jl7iJU"
      }
    }
  ]
}