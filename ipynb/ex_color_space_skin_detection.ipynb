{
  "nbformat": 4,
  "nbformat_minor": 0,
  "metadata": {
    "colab": {
      "provenance": [],
      "include_colab_link": true
    },
    "kernelspec": {
      "display_name": "Python 3",
      "name": "python3"
    },
    "language_info": {
      "name": "python"
    }
  },
  "cells": [
    {
      "cell_type": "markdown",
      "metadata": {
        "id": "view-in-github",
        "colab_type": "text"
      },
      "source": [
        "<a href=\"https://colab.research.google.com/github/tsakailab/prml/blob/master/ipynb/ex_color_space_skin_detection.ipynb\" target=\"_parent\"><img src=\"https://colab.research.google.com/assets/colab-badge.svg\" alt=\"Open In Colab\"/></a>"
      ]
    },
    {
      "metadata": {
        "id": "UTNIg2oEn2n8"
      },
      "cell_type": "markdown",
      "source": [
        "# 肌領域の検出（Skin detection）\n",
        "----\n",
        "\n",
        "氏名：\n",
        "\n",
        "学生番号：\n",
        "\n",
        "----\n",
        "基本課題（必須）\n",
        "\n",
        "    1. カラー画像にはどのような表現がありますか．各表現の利点・欠点を述べてください．\n",
        "\n",
        "（ここに回答を書いてください）\n",
        "\n",
        "\n",
        "\n",
        "    2. HSV空間にどのような条件を課すと肌領域を検出できますか．\n",
        "       その条件はどのように見つけられますか．\n",
        "\n",
        "（ここに回答を書いてください）\n",
        "\n",
        "\n",
        "\n",
        "    3. 色だけを用いる肌領域の検出にはどのような問題点がありますか．また，どのような改善の工夫が考えられますか．\n",
        "\n",
        "（[この文献](https://link.springer.com/article/10.1007/s10462-018-9664-9)を参考にして，回答を書いてください）\n",
        "\n",
        "\n",
        "\n",
        "    4.その他，気づいたこと，調べたことがあれば書いてください．\n",
        "\n",
        "（ここに回答を書いてください）\n",
        "\n",
        "\n",
        "\n",
        "----\n"
      ]
    },
    {
      "cell_type": "code",
      "source": [
        "#@title データセットをダウンロードします．\n",
        "import zipfile\n",
        "zipURL = \"https://github.com/tsakailab/prml/raw/master/datasets/SkinDataset.zip\"\n",
        "!wget $zipURL --no-check-certificate --show-progress -q -O \"/tmp/SkinDataset.zip\"\n",
        "with zipfile.ZipFile(\"/tmp/SkinDataset.zip\", 'r') as f:\n",
        "    f.extractall(\"./sample_data\")\n",
        "\n",
        "\n",
        "path_img = \"./sample_data/SkinDataset/img\"\n",
        "path_lbl = \"./sample_data/SkinDataset/lbl\"\n",
        "print(\"path_img = \\\"{}\\\"\".format(path_img))\n",
        "print(\"path_lbl = \\\"{}\\\"\".format(path_lbl))\n",
        "\n",
        "import os\n",
        "imgfiles = [f for f in os.listdir(path_img) if os.path.isfile(os.path.join(path_img, f))]\n",
        "print(\"imgfiles: list of filenames of \" + str(len(imgfiles)) + \" images in \" + path_img)\n",
        "lblfiles = [os.path.splitext(os.path.basename(f))[0]+\".png\" for f in imgfiles]\n",
        "print(\"lblfiles: list of filenames of \" + str(len(imgfiles)) + \" skin masks in \" + path_lbl)\n",
        "\n",
        "import numpy as np\n",
        "from PIL import Image\n",
        "def read_images(filenames, path=path_img):\n",
        "    imgs = []\n",
        "    for f in filenames:\n",
        "        img = Image.open(os.path.join(path, f))\n",
        "        imgs.append(np.asarray(img))\n",
        "    return imgs"
      ],
      "metadata": {
        "id": "YOLj3jPZg5sk",
        "cellView": "form"
      },
      "execution_count": null,
      "outputs": []
    },
    {
      "cell_type": "markdown",
      "source": [
        "### `img_id` で指定した画像と正解の肌領域を表示し，画像のNumpy配列 `img` から画素値 [R, G, B] の3次元ベクトルの集まり `rgb` を作ります．"
      ],
      "metadata": {
        "id": "nfth1_MajAei"
      }
    },
    {
      "cell_type": "code",
      "source": [
        "img_id = 1  # 0..77\n",
        "\n",
        "import IPython.display as IPd\n",
        "import os\n",
        "im = IPd.Image(os.path.join(path_img, imgfiles[img_id]), width=300)\n",
        "lb = IPd.Image(os.path.join(path_lbl, lblfiles[img_id]), width=300)\n",
        "print(im.filename)\n",
        "IPd.display(im)\n",
        "print(lb.filename)\n",
        "IPd.display(lb)\n",
        "\n",
        "img = read_images([ imgfiles[img_id] ], path=path_img)[0]\n",
        "lbl = read_images([ lblfiles[img_id] ], path=path_lbl)[0]\n",
        "print(img.shape)"
      ],
      "metadata": {
        "id": "eYOEXa2kDTa2"
      },
      "execution_count": null,
      "outputs": []
    },
    {
      "cell_type": "code",
      "source": [
        "rgb = np.reshape(img, (-1,3))\n",
        "print(\"rgb.shape =\", rgb.shape)\n",
        "\n",
        "import pandas as pd\n",
        "print(pd.DataFrame(data=rgb, columns=[\"Red\", \"Green\", \"Blue\"]).head(10))"
      ],
      "metadata": {
        "id": "isNxsONKzlXf"
      },
      "execution_count": null,
      "outputs": []
    },
    {
      "cell_type": "code",
      "source": [
        "#@title 色のヒストグラムを表示します．\n",
        "import matplotlib.pyplot as plt\n",
        "\n",
        "fig, axes = plt.subplots(figsize=(9,3), nrows=1, ncols=3, sharex=True, sharey=True)\n",
        "axes[0].hist(rgb[:,0], bins = 256, color = 'red', alpha = 0.5)\n",
        "axes[0].set_xlabel('Red')\n",
        "axes[1].hist(rgb[:,1], bins = 256, color = 'green', alpha = 0.5)\n",
        "axes[1].set_xlabel('Green')\n",
        "axes[2].hist(rgb[:,2], bins = 256, color = 'blue', alpha = 0.5)\n",
        "axes[2].set_xlabel('Blue')\n",
        "plt.show()"
      ],
      "metadata": {
        "id": "zgr5_IM0SVwv"
      },
      "execution_count": null,
      "outputs": []
    },
    {
      "cell_type": "markdown",
      "source": [
        "### RGB色空間で観察します．\n",
        "- `ns`: 色空間に散布する画素数（画素全部は多すぎるので）．"
      ],
      "metadata": {
        "id": "EdHe45ZuePr7"
      }
    },
    {
      "cell_type": "code",
      "source": [
        "ns = 3000\n",
        "\n",
        "n = rgb.shape[0]\n",
        "ns = min(n, ns)\n",
        "print(\"Randomly chosen %d points out of %d points will be displayed.\" % (ns, n))"
      ],
      "metadata": {
        "id": "QAOlRt_ieEnF"
      },
      "execution_count": null,
      "outputs": []
    },
    {
      "cell_type": "code",
      "source": [
        "#@title RGB色空間を表示します．マウスで視点を操作して観察できます．\n",
        "import plotly.graph_objs  as go\n",
        "import plotly.graph_objs.layout  as gol\n",
        "\n",
        "ps = np.random.choice(n, ns, replace=False)\n",
        "rgbs = rgb[ps] # * 1.5 # brighter\n",
        "\n",
        "# https://plotly.com/python-api-reference/generated/plotly.graph_objects.Scatter3d.html#plotly.graph_objects.Scatter3d\n",
        "trace = go.Scatter3d(x=rgbs[:,0], y=rgbs[:,1], z=rgbs[:,2], mode='markers',\n",
        "                     marker=dict(size=2,\n",
        "                                color=['rgb({},{},{})'.format(r,g,b) for r,g,b in zip(rgbs[:,0], rgbs[:,1], rgbs[:,2])],\n",
        "                                opacity=0.8))\n",
        "\n",
        "layout = go.Layout(margin=dict(l=0,r=0,b=0,t=0), scene=gol.Scene(xaxis=gol.scene.XAxis(title=\"Red\"), yaxis=gol.scene.YAxis(title=\"Green\"), zaxis=gol.scene.ZAxis(title=\"Blue\")))\n",
        "fig = go.Figure(data=[trace], layout=layout)\n",
        "camera = dict(up=dict(x=0, y=0, z=1), center=dict(x=0, y=0, z=0), eye=dict(x=1.5, y=1.5, z=0.8))\n",
        "fig.update_layout(scene_camera=camera)\n",
        "fig.show()"
      ],
      "metadata": {
        "cellView": "form",
        "id": "3Fgu46t58XHP"
      },
      "execution_count": null,
      "outputs": []
    },
    {
      "cell_type": "markdown",
      "source": [
        "### ★ [HSV（Hue, Saturation, Value）](https://en.wikipedia.org/wiki/HSL_and_HSV)による表現に変換します．"
      ],
      "metadata": {
        "id": "vR9u1QE--WiA"
      }
    },
    {
      "cell_type": "code",
      "source": [
        "import matplotlib.colors as colors\n",
        "hsv = np.reshape(colors.rgb_to_hsv(img/255.0), (-1,3))\n",
        "print(hsv.shape)\n",
        "\n",
        "print(\"hsv.shape =\", hsv.shape)\n",
        "\n",
        "import pandas as pd\n",
        "print(pd.DataFrame(data=hsv, columns=[\"Hue\", \"Saturation\", \"Value\"]).head(10))"
      ],
      "metadata": {
        "id": "0JcnNmom5TOC"
      },
      "execution_count": null,
      "outputs": []
    },
    {
      "cell_type": "code",
      "source": [
        "#@title HSVのヒストグラムを表示します．\n",
        "import matplotlib.pyplot as plt\n",
        "\n",
        "fig, axes = plt.subplots(figsize=(9,3), nrows=1, ncols=3, sharex=True, sharey=False)\n",
        "axes[0].hist(hsv[:,0], bins = 256, color = 'gray', alpha = 0.5)\n",
        "axes[0].set_xlabel('Hue')\n",
        "axes[1].hist(hsv[:,1], bins = 256, color = 'gray', alpha = 0.5)\n",
        "axes[1].set_xlabel('Saturation')\n",
        "axes[2].hist(hsv[:,2], bins = 256, color = 'gray', alpha = 0.5)\n",
        "axes[2].set_xlabel('Value')\n",
        "plt.show()"
      ],
      "metadata": {
        "cellView": "form",
        "id": "5XgBGDSP8Jgd"
      },
      "execution_count": null,
      "outputs": []
    },
    {
      "cell_type": "code",
      "source": [
        "#@title HSV色空間を観察します．マウスで視点を操作して観察できます．\n",
        "import plotly.graph_objs  as go\n",
        "import plotly.graph_objs.layout  as gol\n",
        "\n",
        "nmax = 10000\n",
        "def ScatterHSV(hsv, rgbs=None):\n",
        "    if hsv.shape[0] > nmax:\n",
        "        hsvs = hsv[np.random.choice(hsv.shape[0], nmax, replace=False),:]\n",
        "    else:\n",
        "        hsvs = hsv\n",
        "    if rgbs is None: rgbs = colors.hsv_to_rgb(hsvs) * 255.\n",
        "\n",
        "    # https://plotly.com/python-api-reference/generated/plotly.graph_objects.Scatter3d.html#plotly.graph_objects.Scatter3d\n",
        "    trace = go.Scatter3d(x=hsvs[:,0], y=hsvs[:,1], z=hsvs[:,2], mode='markers',\n",
        "                         marker=dict(size=2,\n",
        "                                color=['rgb({},{},{})'.format(r,g,b) for r,g,b in zip(rgbs[:,0], rgbs[:,1], rgbs[:,2])],\n",
        "                                opacity=0.8))\n",
        "    layout = go.Layout(margin=dict(l=0,r=0,b=0,t=0),\n",
        "                       scene=gol.Scene(\n",
        "                           xaxis=gol.scene.XAxis(title=\"Hue\", range=[0,1]),\n",
        "                           yaxis=gol.scene.YAxis(title=\"Saturation\", range=[0,1]),\n",
        "                           zaxis=gol.scene.ZAxis(title=\"Value\", range=[0,1])))\n",
        "    fig = go.Figure(data=[trace], layout=layout)\n",
        "    camera = dict(up=dict(x=0, y=0, z=1), center=dict(x=0, y=0, z=0), eye=dict(x=1, y=-2, z=0.8))\n",
        "    fig.update_layout(scene_camera=camera)\n",
        "    fig.show()\n",
        "\n",
        "hsvs = hsv[ps]\n",
        "ScatterHSV(hsvs)"
      ],
      "metadata": {
        "cellView": "form",
        "id": "fqLoCG2T9llx"
      },
      "execution_count": null,
      "outputs": []
    },
    {
      "cell_type": "markdown",
      "source": [
        "### HSV表現で肌の画素を選び出す方法を考えよう．\n",
        "- NumPy配列 `hsv` （★のセルを参照）の行が画素に対応します．\n",
        "- `hsv`の3つの列 Hue，Saturation，Value の値に条件を課してください．条件を満たす画素（`hsv`の行）の番号のNumPy配列を `skin_pos` とします．\n",
        "    - 例えば，`hsv[:,2] > 0.2` と書くと，Value が 0.2を超える条件を表します．\n",
        "- 条件を満たす画素の番号の配列は `skin_pos =`[`np.where(条件)[0]`](https://numpy.org/doc/stable/reference/generated/numpy.where.html)のように作成できます．\n",
        "    - 行についての結果のみを使用するため末尾に`[0]`を付けています．\n",
        "    - 複数の条件を課すときは，`skin_pos = np.where( logical_and([条件1,条件2,...,条件n]) )[0]`のように書きます．`logical_or`もあります．\n",
        "    - [for文を書いたら負けかなと思ってる．](https://www.google.com/search?q=python+for+%E8%B2%A0%E3%81%91&rlz=1C1QABZ_jaJP862JP862&sxsrf=ALiCzsb_mbOOWtLLdk8-1feR5u76sZAMxw%3A1665660365256&ei=zfVHY4ioD-_s2roP8aqtiAY&ved=0ahUKEwjIwoyzjN36AhVvtlYBHXFVC2EQ4dUDCA4&uact=5&oq=python+for+%E8%B2%A0%E3%81%91&gs_lcp=Cgdnd3Mtd2l6EAMyBAgAEB46BwgAEB4QogQ6BQgAEKIEOgYIABAHEB5KBAhNGAFKBAhBGABKBAhGGABQAFidCmDADGgAcAF4AIABeYgBgAaSAQMxLjaYAQCgAQHAAQE&sclient=gws-wiz)"
      ],
      "metadata": {
        "id": "7MxOfL7QB7Ly"
      }
    },
    {
      "cell_type": "code",
      "source": [
        "from functools import reduce\n",
        "logical_and = lambda conds: reduce(np.logical_and, conds)\n",
        "logical_or = lambda conds: reduce(np.logical_or, conds)\n",
        "\n",
        "#skin_pos = np.where( ここに条件を書く )[0]\n",
        "\n",
        "print(skin_pos.shape[0], \"pixels are selected.\")\n",
        "ScatterHSV(hsv[skin_pos])"
      ],
      "metadata": {
        "id": "A-e0mvy0Ciql"
      },
      "execution_count": null,
      "outputs": []
    },
    {
      "cell_type": "code",
      "source": [
        "#@title 検出結果を画像で表示します．\n",
        "\n",
        "#est = np.ones_like(rgb) * 255\n",
        "est = np.zeros_like(rgb)\n",
        "\n",
        "est[skin_pos,:] = rgb[skin_pos,:]\n",
        "est = np.reshape(est, img.shape)\n",
        "\n",
        "gt = np.zeros_like(img[:,:,:3])\n",
        "idx_lbl = lbl[:,:,:3] > 0\n",
        "gt[idx_lbl] = img[:,:,:3][idx_lbl]\n",
        "\n",
        "plt.figure(figsize=(15,4))\n",
        "plt.subplot(1,3,1)\n",
        "plt.imshow(img)\n",
        "plt.gca().set_title(\"Original image\")\n",
        "plt.subplot(1,3,2)\n",
        "plt.imshow(est)\n",
        "plt.gca().set_title(\"Estimated skin pixels\")\n",
        "plt.subplot(1,3,3)\n",
        "plt.imshow(gt)\n",
        "plt.gca().set_title(\"Ground truth\")\n",
        "plt.show()"
      ],
      "metadata": {
        "id": "pgDr6X0iJy-J",
        "cellView": "form"
      },
      "execution_count": null,
      "outputs": []
    },
    {
      "metadata": {
        "id": "bRUeztQpn2op",
        "cellView": "form"
      },
      "cell_type": "code",
      "source": [
        "#@title 混同行列（行：正解，列：予測）と評価値\n",
        "from sklearn import metrics\n",
        "# https://scikit-learn.org/stable/modules/generated/sklearn.metrics.confusion_matrix.html\n",
        "\n",
        "y_true = idx_lbl[:,:,0].ravel()\n",
        "y_pred = np.full_like(y_true, False)\n",
        "y_pred[skin_pos] = True\n",
        "cm = metrics.confusion_matrix(y_true, y_pred)\n",
        "print(cm)\n",
        "\n",
        "print(metrics.classification_report(y_true, y_pred, labels=[True], target_names=[\"skin pixels\"]))"
      ],
      "execution_count": null,
      "outputs": []
    },
    {
      "cell_type": "markdown",
      "source": [
        "お疲れさまでした．"
      ],
      "metadata": {
        "id": "v_bmMh7T1N3z"
      }
    }
  ]
}